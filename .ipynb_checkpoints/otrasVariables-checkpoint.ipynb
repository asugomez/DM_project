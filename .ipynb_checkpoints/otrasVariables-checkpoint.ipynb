{
 "cells": [
  {
   "cell_type": "markdown",
   "metadata": {},
   "source": [
    "** Asunción Carolina Gómez Colomer **\n",
    "\n"
   ]
  },
  {
   "cell_type": "code",
   "execution_count": 5,
   "metadata": {},
   "outputs": [],
   "source": [
    "import pandas as pd\n",
    "\n",
    "df_equipamiento_cult = pd.read_csv(\"./csv/Equipamiento_Cultural_RM.csv\", sep=\",\")\n",
    "\n",
    "df_equipamiento_cult.head()"
   ]
  }
 ],
 "metadata": {
  "interpreter": {
   "hash": "7714cb9edb155b38028474d7e2554d2e1cfd4d6c43e6162a58521505598f6d8e"
  },
  "kernelspec": {
   "display_name": "Python 3 (ipykernel)",
   "language": "python",
   "name": "python3"
  },
  "language_info": {
   "codemirror_mode": {
    "name": "ipython",
    "version": 3
   },
   "file_extension": ".py",
   "mimetype": "text/x-python",
   "name": "python",
   "nbconvert_exporter": "python",
   "pygments_lexer": "ipython3",
   "version": "3.9.10"
  }
 },
 "nbformat": 4,
 "nbformat_minor": 2
}
